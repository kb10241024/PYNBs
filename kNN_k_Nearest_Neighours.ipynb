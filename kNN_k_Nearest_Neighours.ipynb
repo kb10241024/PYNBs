{
  "nbformat": 4,
  "nbformat_minor": 0,
  "metadata": {
    "colab": {
      "name": "kNN-k_Nearest_Neighours.ipynb",
      "provenance": [],
      "include_colab_link": true
    },
    "kernelspec": {
      "name": "python3",
      "display_name": "Python 3"
    }
  },
  "cells": [
    {
      "cell_type": "markdown",
      "metadata": {
        "id": "view-in-github",
        "colab_type": "text"
      },
      "source": [
        "<a href=\"https://colab.research.google.com/github/kb10241024/PYNBs/blob/master/kNN_k_Nearest_Neighours.ipynb\" target=\"_parent\"><img src=\"https://colab.research.google.com/assets/colab-badge.svg\" alt=\"Open In Colab\"/></a>"
      ]
    },
    {
      "cell_type": "code",
      "metadata": {
        "id": "hgQ_og0mJm8R",
        "colab_type": "code",
        "colab": {}
      },
      "source": [
        "# https://www.analyticsvidhya.com/blog/2018/03/introduction-k-neighbours-algorithm-clustering/?#\n",
        "# Link for more details about k Nearest Neighbours kNN\n",
        "# The following code is for the KNN Clustering from Scratch\n",
        "# Created by - ANALYTICS VIDHYA\n",
        "\n",
        "# Importing libraries\n",
        "import pandas as pd\n",
        "import numpy as np\n",
        "import math\n",
        "import operator"
      ],
      "execution_count": 0,
      "outputs": []
    },
    {
      "cell_type": "code",
      "metadata": {
        "id": "L60PTERwdx-d",
        "colab_type": "code",
        "colab": {
          "base_uri": "https://localhost:8080/",
          "height": 127
        },
        "outputId": "8e3609a5-3f05-4a8d-d0a3-708fbf9cd0e7"
      },
      "source": [
        "# Mounting google drive in this notebook, Mount the drive with kavyabarnwal1@gmail.com\n",
        "from google.colab import drive\n",
        "drive.mount('/content/Datasets')"
      ],
      "execution_count": 8,
      "outputs": [
        {
          "output_type": "stream",
          "text": [
            "Go to this URL in a browser: https://accounts.google.com/o/oauth2/auth?client_id=947318989803-6bn6qk8qdgf4n4g3pfee6491hc0brc4i.apps.googleusercontent.com&redirect_uri=urn%3aietf%3awg%3aoauth%3a2.0%3aoob&response_type=code&scope=email%20https%3a%2f%2fwww.googleapis.com%2fauth%2fdocs.test%20https%3a%2f%2fwww.googleapis.com%2fauth%2fdrive%20https%3a%2f%2fwww.googleapis.com%2fauth%2fdrive.photos.readonly%20https%3a%2f%2fwww.googleapis.com%2fauth%2fpeopleapi.readonly\n",
            "\n",
            "Enter your authorization code:\n",
            "··········\n",
            "Mounted at /content/Datasets\n"
          ],
          "name": "stdout"
        }
      ]
    },
    {
      "cell_type": "code",
      "metadata": {
        "id": "4ueSztA0d-aR",
        "colab_type": "code",
        "colab": {}
      },
      "source": [
        "# Provide the path to required dataset '/content/Datasets/My Drive/Datasets/iris.csv'\n",
        "path='/content/Datasets/My Drive/Datasets/iris.csv'"
      ],
      "execution_count": 0,
      "outputs": []
    },
    {
      "cell_type": "code",
      "metadata": {
        "id": "xiNXzG0tKn4c",
        "colab_type": "code",
        "colab": {
          "base_uri": "https://localhost:8080/",
          "height": 125
        },
        "outputId": "32fd4f0d-f8c9-4694-dc19-773d850d4b48"
      },
      "source": [
        "#### Start of STEP 1\n",
        "# Importing data \n",
        "# data = pd.read_csv('iris.csv')\n",
        "data = pd.read_csv(path)\n",
        "#### End of STEP 1\n",
        "\n",
        "print(data.head(5)) "
      ],
      "execution_count": 13,
      "outputs": [
        {
          "output_type": "stream",
          "text": [
            "   SepalLength  SepalWidth  PetalLength  PetalWidth         Name\n",
            "0          5.1         3.5          1.4         0.2  Iris-setosa\n",
            "1          4.9         3.0          1.4         0.2  Iris-setosa\n",
            "2          4.7         3.2          1.3         0.2  Iris-setosa\n",
            "3          4.6         3.1          1.5         0.2  Iris-setosa\n",
            "4          5.0         3.6          1.4         0.2  Iris-setosa\n"
          ],
          "name": "stdout"
        }
      ]
    },
    {
      "cell_type": "code",
      "metadata": {
        "id": "3_qeA969KvLI",
        "colab_type": "code",
        "colab": {}
      },
      "source": [
        "# Defining a function which calculates euclidean distance between two data points\n",
        "def euclideanDistance(data1, data2, length):\n",
        "    distance = 0\n",
        "    for x in range(length):\n",
        "        distance += np.square(data1[x] - data2[x])\n",
        "    return np.sqrt(distance)"
      ],
      "execution_count": 0,
      "outputs": []
    },
    {
      "cell_type": "code",
      "metadata": {
        "id": "mbVEgdvvLC_R",
        "colab_type": "code",
        "colab": {}
      },
      "source": [
        "\n",
        "# Defining our KNN model\n",
        "def knn(trainingSet, testInstance, k):\n",
        " \n",
        "    distances = {}\n",
        "    sort = {}\n",
        " \n",
        "    length = testInstance.shape[1]\n",
        "    \n",
        "    #### Start of STEP 3\n",
        "    # Calculating euclidean distance between each row of training data and test data\n",
        "    for x in range(len(trainingSet)):\n",
        "        \n",
        "        #### Start of STEP 3.1\n",
        "        dist = euclideanDistance(testInstance, trainingSet.iloc[x], length)\n",
        "\n",
        "        distances[x] = dist[0]\n",
        "        #### End of STEP 3.1\n",
        " \n",
        "    #### Start of STEP 3.2\n",
        "    # Sorting them on the basis of distance\n",
        "    sorted_d = sorted(distances.items(), key=operator.itemgetter(1))\n",
        "    #### End of STEP 3.2\n",
        " \n",
        "    neighbors = []\n",
        "    \n",
        "    #### Start of STEP 3.3\n",
        "    # Extracting top k neighbors\n",
        "    for x in range(k):\n",
        "        neighbors.append(sorted_d[x][0])\n",
        "    #### End of STEP 3.3\n",
        "    classVotes = {}\n",
        "    \n",
        "    #### Start of STEP 3.4\n",
        "    # Calculating the most freq class in the neighbors\n",
        "    for x in range(len(neighbors)):\n",
        "        response = trainingSet.iloc[neighbors[x]][-1]\n",
        " \n",
        "        if response in classVotes:\n",
        "            classVotes[response] += 1\n",
        "        else:\n",
        "            classVotes[response] = 1\n",
        "    #### End of STEP 3.4\n",
        "\n",
        "    #### Start of STEP 3.5\n",
        "    sortedVotes = sorted(classVotes.items(), key=operator.itemgetter(1), reverse=True)\n",
        "    return(sortedVotes[0][0], neighbors)\n",
        "    #### End of STEP 3.5\n"
      ],
      "execution_count": 0,
      "outputs": []
    },
    {
      "cell_type": "code",
      "metadata": {
        "id": "Sa9bHu41LxtR",
        "colab_type": "code",
        "colab": {}
      },
      "source": [
        "testSet = [[7.2, 3.6, 5.1, 2.5]]\n",
        "test = pd.DataFrame(testSet)"
      ],
      "execution_count": 0,
      "outputs": []
    },
    {
      "cell_type": "code",
      "metadata": {
        "id": "d87ga7jLKgeL",
        "colab_type": "code",
        "colab": {
          "base_uri": "https://localhost:8080/",
          "height": 503
        },
        "outputId": "bfad3564-6931-428e-da1f-784d6197ee20"
      },
      "source": [
        "#### Start of STEP 2\n",
        "# Setting number of neighbors = 1\n",
        "\n",
        "\n",
        "print('\\n\\nWith 1 Nearest Neighbour \\n\\n')\n",
        "k = 1\n",
        "#### End of STEP 2\n",
        "# Running KNN model\n",
        "result,neigh = knn(data, test, k)\n",
        "\n",
        "# Predicted class\n",
        "print('\\nPredicted Class of the datapoint = ', result)\n",
        "\n",
        "# Nearest neighbor\n",
        "print('\\nNearest Neighbour of the datapoints = ',neigh)\n",
        "\n",
        "\n",
        "print('\\n\\nWith 3 Nearest Neighbours\\n\\n')\n",
        "# Setting number of neighbors = 3 \n",
        "k = 3 \n",
        "# Running KNN model \n",
        "result,neigh = knn(data, test, k) \n",
        "\n",
        "# Predicted class \n",
        "print('\\nPredicted class of the datapoint = ',result)\n",
        "\n",
        "# Nearest neighbor\n",
        "print('\\nNearest Neighbours of the datapoints = ',neigh)\n",
        "\n",
        "print('\\n\\nWith 5 Nearest Neighbours\\n\\n')\n",
        "# Setting number of neighbors = 3 \n",
        "k = 5\n",
        "# Running KNN model \n",
        "result,neigh = knn(data, test, k) \n",
        "\n",
        "# Predicted class \n",
        "print('\\nPredicted class of the datapoint = ',result)\n",
        "\n",
        "# Nearest neighbor\n",
        "print('\\nNearest Neighbours of the datapoints = ',neigh)"
      ],
      "execution_count": 17,
      "outputs": [
        {
          "output_type": "stream",
          "text": [
            "\n",
            "\n",
            "With 1 Nearest Neighbour \n",
            "\n",
            "\n",
            "\n",
            "Predicted Class of the datapoint =  Iris-virginica\n",
            "\n",
            "Nearest Neighbour of the datapoints =  [141]\n",
            "\n",
            "\n",
            "With 3 Nearest Neighbours\n",
            "\n",
            "\n",
            "\n",
            "Predicted class of the datapoint =  Iris-virginica\n",
            "\n",
            "Nearest Neighbours of the datapoints =  [141, 139, 120]\n",
            "\n",
            "\n",
            "With 5 Nearest Neighbours\n",
            "\n",
            "\n",
            "\n",
            "Predicted class of the datapoint =  Iris-virginica\n",
            "\n",
            "Nearest Neighbours of the datapoints =  [141, 139, 120, 145, 144]\n"
          ],
          "name": "stdout"
        }
      ]
    },
    {
      "cell_type": "code",
      "metadata": {
        "id": "zGIjZhFPMOZv",
        "colab_type": "code",
        "colab": {}
      },
      "source": [
        ""
      ],
      "execution_count": 0,
      "outputs": []
    }
  ]
}