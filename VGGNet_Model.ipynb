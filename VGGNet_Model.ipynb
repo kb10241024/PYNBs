{
  "nbformat": 4,
  "nbformat_minor": 0,
  "metadata": {
    "colab": {
      "name": "VGGNet_Model.ipynb",
      "provenance": [],
      "include_colab_link": true
    },
    "kernelspec": {
      "name": "python3",
      "display_name": "Python 3"
    }
  },
  "cells": [
    {
      "cell_type": "markdown",
      "metadata": {
        "id": "view-in-github",
        "colab_type": "text"
      },
      "source": [
        "<a href=\"https://colab.research.google.com/github/kb10241024/PYNBs/blob/master/VGGNet_Model.ipynb\" target=\"_parent\"><img src=\"https://colab.research.google.com/assets/colab-badge.svg\" alt=\"Open In Colab\"/></a>"
      ]
    },
    {
      "cell_type": "markdown",
      "metadata": {
        "id": "B_JuGjwOXT1S",
        "colab_type": "text"
      },
      "source": [
        "[BLOG](https://medium.com/datadriveninvestor/five-powerful-cnn-architectures-b939c9ddd57b)\n",
        "\n",
        "# VGGNet — Simonyan et al\n",
        "The runner up of 2014 imagenet challenge is named VGGNet. Because of the simplicity of it’s uniform architecture, it appeals to a new-comer as a simpler form of a deep convolutional neural network.\n",
        "\n",
        "\n",
        "In future posts, we will see how this network is one of the most used choices for feature extraction from images (taking images and converting them to a smaller dimensional array that contains important information regarding the image).\n",
        "\n",
        "![alt text](https://miro.medium.com/max/919/1*bLzGoL9g9Sj43xkTbiyAzw.png)\n",
        "\n",
        "# VGGNet — Architecture\n",
        "VGGNet has 2 simple rules of thumb to be followed:\n",
        "Each Convolutional layer has configuration — kernel size = 3×3, stride = 1×1, padding = same. The only thing that differs is number of filters.\n",
        "\n",
        "Each Max Pooling layer has configuration — windows size = 2×2 and stride = 2×2. Thus, we half the size of the image at every Pooling layer.\n",
        "\n",
        "The input image was an RGB image of 224×224 pixels. So input size = 224x224x3\n",
        "\n",
        "![alt text](https://miro.medium.com/max/1128/1*2C_PcSh4t5IjppjN7v_Gmw.png)\n",
        "\n",
        "Total Params = 138 million. Most of these parameters are contributed by fully connected layers.\n",
        "\n",
        "*   The first FC layer contributes = 4096 * (7 * 7 * 512) + 4096 = 102,764,544\n",
        "*   The second FC layer contributes = 4096 * 4096 + 4096 = 16,781,312\n",
        "*   The third FC layer contributes = 4096 * 1000 + 4096 = 4,100,096\n",
        "Total params contributed by FC layers = 123,645,952.\n",
        "\n",
        "\n",
        "\n",
        "# VGGNet — CODE"
      ]
    },
    {
      "cell_type": "code",
      "metadata": {
        "id": "D5TW59uzXM7G",
        "colab_type": "code",
        "colab": {
          "base_uri": "https://localhost:8080/",
          "height": 1000
        },
        "outputId": "69dc669b-1372-41d4-9e81-b61e36ee797c"
      },
      "source": [
        "from keras import layers\n",
        "from keras.models import Model, Sequential\n",
        "\n",
        "from functools import partial\n",
        "\n",
        "conv3 = partial(layers.Conv2D,\n",
        "                kernel_size=3,\n",
        "                strides=1,\n",
        "                padding='same',\n",
        "                activation='relu')\n",
        "\n",
        "def block(in_tensor, filters, n_convs):\n",
        "    conv_block = in_tensor\n",
        "    for _ in range(n_convs):\n",
        "        conv_block = conv3(filters=filters)(conv_block)\n",
        "    return conv_block\n",
        "\n",
        "def _vgg(in_shape=(227,227,3),\n",
        "         n_classes=1000,\n",
        "         opt='sgd',\n",
        "         n_stages_per_blocks=[2, 2, 3, 3, 3]):\n",
        "    in_layer = layers.Input(in_shape)\n",
        "\n",
        "    block1 = block(in_layer, 64, n_stages_per_blocks[0])\n",
        "    pool1 = layers.MaxPool2D()(block1)\n",
        "    block2 = block(pool1, 128, n_stages_per_blocks[1])\n",
        "    pool2 = layers.MaxPool2D()(block2)\n",
        "    block3 = block(pool2, 256, n_stages_per_blocks[2])\n",
        "    pool3 = layers.MaxPool2D()(block3)\n",
        "    block4 = block(pool3, 512, n_stages_per_blocks[3])\n",
        "    pool4 = layers.MaxPool2D()(block4)\n",
        "    block5 = block(pool4, 512, n_stages_per_blocks[4])\n",
        "    pool5 = layers.MaxPool2D()(block5)\n",
        "    flattened = layers.GlobalAvgPool2D()(pool5)\n",
        "\n",
        "    dense1 = layers.Dense(4096, activation='relu')(flattened)\n",
        "    dense2 = layers.Dense(4096, activation='relu')(dense1)\n",
        "    preds = layers.Dense(1000, activation='softmax')(dense2)\n",
        "\n",
        "    model = Model(in_layer, preds)\n",
        "    model.compile(loss=\"categorical_crossentropy\", optimizer=opt,\n",
        "\t              metrics=[\"accuracy\"])\n",
        "    return model\n",
        "\n",
        "def vgg16(in_shape=(227,227,3), n_classes=1000, opt='sgd'):\n",
        "    return _vgg(in_shape, n_classes, opt)\n",
        "\n",
        "def vgg19(in_shape=(227,227,3), n_classes=1000, opt='sgd'):\n",
        "    return _vgg(in_shape, n_classes, opt, [2, 2, 4, 4, 4])\n",
        "\n",
        "if __name__ == '__main__':\n",
        "    model = vgg19()\n",
        "    print(model.summary())"
      ],
      "execution_count": 1,
      "outputs": [
        {
          "output_type": "stream",
          "text": [
            "Using TensorFlow backend.\n"
          ],
          "name": "stderr"
        },
        {
          "output_type": "stream",
          "text": [
            "WARNING:tensorflow:From /usr/local/lib/python3.6/dist-packages/keras/backend/tensorflow_backend.py:66: The name tf.get_default_graph is deprecated. Please use tf.compat.v1.get_default_graph instead.\n",
            "\n",
            "WARNING:tensorflow:From /usr/local/lib/python3.6/dist-packages/keras/backend/tensorflow_backend.py:541: The name tf.placeholder is deprecated. Please use tf.compat.v1.placeholder instead.\n",
            "\n",
            "WARNING:tensorflow:From /usr/local/lib/python3.6/dist-packages/keras/backend/tensorflow_backend.py:4432: The name tf.random_uniform is deprecated. Please use tf.random.uniform instead.\n",
            "\n",
            "WARNING:tensorflow:From /usr/local/lib/python3.6/dist-packages/keras/backend/tensorflow_backend.py:4267: The name tf.nn.max_pool is deprecated. Please use tf.nn.max_pool2d instead.\n",
            "\n",
            "WARNING:tensorflow:From /usr/local/lib/python3.6/dist-packages/keras/optimizers.py:793: The name tf.train.Optimizer is deprecated. Please use tf.compat.v1.train.Optimizer instead.\n",
            "\n",
            "WARNING:tensorflow:From /usr/local/lib/python3.6/dist-packages/keras/backend/tensorflow_backend.py:3576: The name tf.log is deprecated. Please use tf.math.log instead.\n",
            "\n",
            "Model: \"model_1\"\n",
            "_________________________________________________________________\n",
            "Layer (type)                 Output Shape              Param #   \n",
            "=================================================================\n",
            "input_1 (InputLayer)         (None, 227, 227, 3)       0         \n",
            "_________________________________________________________________\n",
            "conv2d_1 (Conv2D)            (None, 227, 227, 64)      1792      \n",
            "_________________________________________________________________\n",
            "conv2d_2 (Conv2D)            (None, 227, 227, 64)      36928     \n",
            "_________________________________________________________________\n",
            "max_pooling2d_1 (MaxPooling2 (None, 113, 113, 64)      0         \n",
            "_________________________________________________________________\n",
            "conv2d_3 (Conv2D)            (None, 113, 113, 128)     73856     \n",
            "_________________________________________________________________\n",
            "conv2d_4 (Conv2D)            (None, 113, 113, 128)     147584    \n",
            "_________________________________________________________________\n",
            "max_pooling2d_2 (MaxPooling2 (None, 56, 56, 128)       0         \n",
            "_________________________________________________________________\n",
            "conv2d_5 (Conv2D)            (None, 56, 56, 256)       295168    \n",
            "_________________________________________________________________\n",
            "conv2d_6 (Conv2D)            (None, 56, 56, 256)       590080    \n",
            "_________________________________________________________________\n",
            "conv2d_7 (Conv2D)            (None, 56, 56, 256)       590080    \n",
            "_________________________________________________________________\n",
            "conv2d_8 (Conv2D)            (None, 56, 56, 256)       590080    \n",
            "_________________________________________________________________\n",
            "max_pooling2d_3 (MaxPooling2 (None, 28, 28, 256)       0         \n",
            "_________________________________________________________________\n",
            "conv2d_9 (Conv2D)            (None, 28, 28, 512)       1180160   \n",
            "_________________________________________________________________\n",
            "conv2d_10 (Conv2D)           (None, 28, 28, 512)       2359808   \n",
            "_________________________________________________________________\n",
            "conv2d_11 (Conv2D)           (None, 28, 28, 512)       2359808   \n",
            "_________________________________________________________________\n",
            "conv2d_12 (Conv2D)           (None, 28, 28, 512)       2359808   \n",
            "_________________________________________________________________\n",
            "max_pooling2d_4 (MaxPooling2 (None, 14, 14, 512)       0         \n",
            "_________________________________________________________________\n",
            "conv2d_13 (Conv2D)           (None, 14, 14, 512)       2359808   \n",
            "_________________________________________________________________\n",
            "conv2d_14 (Conv2D)           (None, 14, 14, 512)       2359808   \n",
            "_________________________________________________________________\n",
            "conv2d_15 (Conv2D)           (None, 14, 14, 512)       2359808   \n",
            "_________________________________________________________________\n",
            "conv2d_16 (Conv2D)           (None, 14, 14, 512)       2359808   \n",
            "_________________________________________________________________\n",
            "max_pooling2d_5 (MaxPooling2 (None, 7, 7, 512)         0         \n",
            "_________________________________________________________________\n",
            "global_average_pooling2d_1 ( (None, 512)               0         \n",
            "_________________________________________________________________\n",
            "dense_1 (Dense)              (None, 4096)              2101248   \n",
            "_________________________________________________________________\n",
            "dense_2 (Dense)              (None, 4096)              16781312  \n",
            "_________________________________________________________________\n",
            "dense_3 (Dense)              (None, 1000)              4097000   \n",
            "=================================================================\n",
            "Total params: 43,003,944\n",
            "Trainable params: 43,003,944\n",
            "Non-trainable params: 0\n",
            "_________________________________________________________________\n",
            "None\n"
          ],
          "name": "stdout"
        }
      ]
    },
    {
      "cell_type": "code",
      "metadata": {
        "id": "89Q3JVp9Yu-P",
        "colab_type": "code",
        "colab": {}
      },
      "source": [
        ""
      ],
      "execution_count": 0,
      "outputs": []
    }
  ]
}